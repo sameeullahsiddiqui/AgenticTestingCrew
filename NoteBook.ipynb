{
 "cells": [
  {
   "cell_type": "code",
   "execution_count": null,
   "id": "a6094e63",
   "metadata": {},
   "outputs": [],
   "source": [
    "import warnings\n",
    "warnings.filterwarnings(\"ignore\", category=DeprecationWarning)\n",
    "\n",
    "from crewai import Agent, Crew, Process, Task, LLM\n",
    "from crewai_tools import MCPServerAdapter\n",
    "from crewai_tools import FileWriterTool\n",
    "from crewai_tools import FileReadTool\n",
    "from mcp import StdioServerParameters\n",
    "import yaml\n",
    "import os\n",
    "from pathlib import Path\n",
    "from dotenv import load_dotenv\n",
    "from crewai_tools import SerperDevTool, ScrapeWebsiteTool, FileReadTool,FileWriterTool,DirectoryReadTool"
   ]
  },
  {
   "cell_type": "code",
   "execution_count": null,
   "id": "d0f0c8e7",
   "metadata": {},
   "outputs": [],
   "source": [
    "# Load environment variables\n",
    "env_path = \"backend//.env\"\n",
    "load_dotenv(dotenv_path=env_path)"
   ]
  },
  {
   "cell_type": "code",
   "execution_count": null,
   "id": "a87d8a4d",
   "metadata": {},
   "outputs": [],
   "source": [
    "# Skip MCP server setup due to Jupyter compatibility issues\n",
    "# The MCP server has known issues with Jupyter due to fileno() not being supported\n",
    "# Instead, we'll use the custom Playwright tools directly from the backend\n",
    "\n",
    "print(\"⚠️  Skipping MCP server setup due to Jupyter notebook compatibility issues\")\n",
    "print(\"✅ Using custom Playwright tools instead\")\n",
    "\n",
    "# Load custom tools from backend\n",
    "import sys\n",
    "sys.path.append(os.path.abspath('backend'))\n",
    "\n",
    "try:\n",
    "    from backend.tools.mcp_playwright_tool import (\n",
    "        MyCustomTool, \n",
    "        PlaywrightNavigateTool, \n",
    "        PlaywrightScreenshotTool, \n",
    "        PlaywrightClickTool, \n",
    "        PlaywrightFillTool, \n",
    "        PlaywrightGetTextTool\n",
    "    )\n",
    "    \n",
    "    # Setup tools directly without MCP server\n",
    "    from crewai_tools import FileWriterTool, FileReadTool, DirectoryReadTool\n",
    "    \n",
    "    base_tools = [FileWriterTool(), FileReadTool(), DirectoryReadTool()]\n",
    "    playwright_tools = [\n",
    "        MyCustomTool(),\n",
    "        PlaywrightNavigateTool(),\n",
    "        PlaywrightScreenshotTool(), \n",
    "        PlaywrightClickTool(),\n",
    "        PlaywrightFillTool(),\n",
    "        PlaywrightGetTextTool()\n",
    "    ]\n",
    "    \n",
    "    # Combine all tools\n",
    "    tools = base_tools + playwright_tools\n",
    "    \n",
    "    print(f\"✅ Successfully loaded {len(tools)} tools:\")\n",
    "    print(f\"   - {len(base_tools)} base CrewAI tools\")\n",
    "    print(f\"   - {len(playwright_tools)} custom Playwright tools\")\n",
    "    print(\"\\n🔧 Available tools:\")\n",
    "    for i, tool in enumerate(tools, 1):\n",
    "        tool_name = tool.__class__.__name__\n",
    "        print(f\"   {i}. {tool_name}\")\n",
    "    \n",
    "    print(f\"\\n✅ Tools setup complete! Ready for CrewAI agents.\")\n",
    "    \n",
    "except ImportError as e:\n",
    "    print(f\"❌ Error importing custom tools: {e}\")\n",
    "    print(\"⚠️  Falling back to basic CrewAI tools only\")\n",
    "    tools = [FileWriterTool(), FileReadTool(), DirectoryReadTool()]\n",
    "    print(f\"✅ Loaded {len(tools)} basic tools\")\n",
    "\n",
    "except Exception as e:\n",
    "    print(f\"❌ Unexpected error: {e}\")\n",
    "    tools = []"
   ]
  },
  {
   "cell_type": "code",
   "execution_count": null,
   "id": "b8f146c7",
   "metadata": {
    "vscode": {
     "languageId": "ruby"
    }
   },
   "outputs": [],
   "source": [
    "# Define file paths for YAML configurations\n",
    "files = {\n",
    "    'agents': 'backend//config//agents.yaml',\n",
    "    'tasks': 'backend//config//tasks.yaml'\n",
    "}\n",
    "\n",
    "# Load configurations from YAML files\n",
    "configs = {}\n",
    "for config_type, file_path in files.items():\n",
    "    with open(file_path, 'r') as file:\n",
    "        configs[config_type] = yaml.safe_load(file)\n",
    "\n",
    "# Assign loaded configurations to specific variables\n",
    "agents_config = configs['agents']\n",
    "tasks_config = configs['tasks']\n",
    "\n",
    "print(f\"{len(agents_config)} agents loaded\")\n",
    "print(f\"{len(tasks_config)} tasks loaded\")\n"
   ]
  },
  {
   "cell_type": "code",
   "execution_count": null,
   "id": "123d1fcd",
   "metadata": {},
   "outputs": [],
   "source": [
    "os.environ['AZURE_DEPLOYMENT_TARGET_URL'] = os.getenv(\"AZURE_API_BASE\")\n",
    "os.environ['AZURE_API_KEY'] = os.getenv(\"AZURE_API_KEY\")\n",
    "os.environ['AZURE_API_VERSION'] = os.getenv(\"AZURE_API_VERSION\")\n",
    "azure_llm = \"azure/gpt-4.1\""
   ]
  },
  {
   "cell_type": "code",
   "execution_count": null,
   "id": "df5dcb96",
   "metadata": {},
   "outputs": [],
   "source": [
    "from backend.tools.mcp_playwright_tool import MyCustomTool  # Import the custom Playwright tool\n",
    "\n",
    "project_manager_agent = Agent(\n",
    "  config=agents_config['pm'],\n",
    "  llm=azure_llm,\n",
    " )\n",
    "\n",
    "discovery_agent = Agent(\n",
    "  config=agents_config['discovery'],\n",
    "  llm=azure_llm,\n",
    "  tools=[FileReadTool(), FileWriterTool(), DirectoryReadTool(), MyCustomTool()] # Ensure Playwright/MCP tool is available\n",
    ")"
   ]
  },
  {
   "cell_type": "code",
   "execution_count": null,
   "id": "cb0bb48d",
   "metadata": {},
   "outputs": [],
   "source": [
    "discover_application = Task(\n",
    "  description=tasks_config['discover_application']['description'],\n",
    "  expected_output=tasks_config['discover_application']['expected_output'],\n",
    "  agent=discovery_agent,\n",
    "  output_file=tasks_config['discover_application'].get('output_file')\n",
    ")\n",
    "\n",
    "build_site_map = Task(\n",
    "  description=tasks_config['build_site_map']['description'],\n",
    "  expected_output=tasks_config['build_site_map']['expected_output'],\n",
    "  agent=discovery_agent,\n",
    "  context=[discover_application],\n",
    "  output_file=tasks_config['build_site_map'].get('output_file')\n",
    ")\n",
    "\n",
    "validate_discovery = Task(\n",
    "  description=tasks_config['validate_discovery']['description'],\n",
    "  expected_output=tasks_config['validate_discovery']['expected_output'],\n",
    "  context=[build_site_map],\n",
    "  agent=project_manager_agent\n",
    ")"
   ]
  },
  {
   "cell_type": "code",
   "execution_count": null,
   "id": "aaba57e0",
   "metadata": {},
   "outputs": [],
   "source": [
    "# Creating Crew\n",
    "crew = Crew(\n",
    "  agents=[project_manager_agent, discovery_agent],\n",
    "  tasks=[ discover_application, build_site_map, validate_discovery ],\n",
    "  llm=azure_llm,\n",
    "  verbose=True\n",
    ")"
   ]
  },
  {
   "cell_type": "code",
   "execution_count": null,
   "id": "fd975f4c",
   "metadata": {},
   "outputs": [],
   "source": [
    "# Load mandatory instructions\n",
    "instructions_file_path = 'backend//agent_instructions//mandatory_pre_steps.txt'\n",
    "with open(instructions_file_path, 'r') as file:\n",
    "    instructions = file.read()\n",
    "\n",
    "# The given Python dictionary\n",
    "inputs = {\n",
    "  'BASE_URL': 'www.google.com',\n",
    "  'HEADLESS': \"false\",\n",
    "  'SAMPLE_DIR': 'debug_samples',\n",
    "  'INSTRUCTIONS': instructions\n",
    "}\n",
    "\n",
    "# Run the crew\n",
    "result = crew.kickoff(\n",
    "  inputs=inputs\n",
    ")"
   ]
  },
  {
   "cell_type": "code",
   "execution_count": null,
   "id": "0dfda9c2",
   "metadata": {},
   "outputs": [],
   "source": [
    "import pandas as pd\n",
    "\n",
    "costs = 0.150 * (crew.usage_metrics.prompt_tokens + crew.usage_metrics.completion_tokens) / 1_000_000\n",
    "print(f\"Total costs: ${costs:.4f}\")\n",
    "\n",
    "# Convert UsageMetrics instance to a DataFrame\n",
    "df_usage_metrics = pd.DataFrame([crew.usage_metrics.dict()])\n",
    "df_usage_metrics"
   ]
  }
 ],
 "metadata": {
  "kernelspec": {
   "display_name": ".venv",
   "language": "python",
   "name": "python3"
  },
  "language_info": {
   "codemirror_mode": {
    "name": "ipython",
    "version": 3
   },
   "file_extension": ".py",
   "mimetype": "text/x-python",
   "name": "python",
   "nbconvert_exporter": "python",
   "pygments_lexer": "ipython3",
   "version": "3.13.3"
  }
 },
 "nbformat": 4,
 "nbformat_minor": 5
}
